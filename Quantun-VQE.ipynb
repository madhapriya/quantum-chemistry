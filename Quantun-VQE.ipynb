{
 "cells": [
  {
   "cell_type": "code",
   "execution_count": 2,
   "id": "f6b6f1a7-311c-4306-8b27-607c5e53ca42",
   "metadata": {},
   "outputs": [
    {
     "name": "stdout",
     "output_type": "stream",
     "text": [
      "\n",
      "CondaError: Run 'conda init' before 'conda activate'\n",
      "\n",
      "Requirement already satisfied: ipykernel in /opt/conda/lib/python3.11/site-packages (6.29.3)\n",
      "Requirement already satisfied: comm>=0.1.1 in /opt/conda/lib/python3.11/site-packages (from ipykernel) (0.2.2)\n",
      "Requirement already satisfied: debugpy>=1.6.5 in /opt/conda/lib/python3.11/site-packages (from ipykernel) (1.8.1)\n",
      "Requirement already satisfied: ipython>=7.23.1 in /opt/conda/lib/python3.11/site-packages (from ipykernel) (8.24.0)\n",
      "Requirement already satisfied: jupyter-client>=6.1.12 in /opt/conda/lib/python3.11/site-packages (from ipykernel) (8.6.1)\n",
      "Requirement already satisfied: jupyter-core!=5.0.*,>=4.12 in /opt/conda/lib/python3.11/site-packages (from ipykernel) (5.7.2)\n",
      "Requirement already satisfied: matplotlib-inline>=0.1 in /opt/conda/lib/python3.11/site-packages (from ipykernel) (0.1.7)\n",
      "Requirement already satisfied: nest-asyncio in /opt/conda/lib/python3.11/site-packages (from ipykernel) (1.6.0)\n",
      "Requirement already satisfied: packaging in /opt/conda/lib/python3.11/site-packages (from ipykernel) (24.0)\n",
      "Requirement already satisfied: psutil in /opt/conda/lib/python3.11/site-packages (from ipykernel) (7.0.0)\n",
      "Requirement already satisfied: pyzmq>=24 in /opt/conda/lib/python3.11/site-packages (from ipykernel) (26.0.3)\n",
      "Requirement already satisfied: tornado>=6.1 in /opt/conda/lib/python3.11/site-packages (from ipykernel) (6.4)\n",
      "Requirement already satisfied: traitlets>=5.4.0 in /opt/conda/lib/python3.11/site-packages (from ipykernel) (5.14.3)\n",
      "Requirement already satisfied: decorator in /opt/conda/lib/python3.11/site-packages (from ipython>=7.23.1->ipykernel) (5.1.1)\n",
      "Requirement already satisfied: jedi>=0.16 in /opt/conda/lib/python3.11/site-packages (from ipython>=7.23.1->ipykernel) (0.19.1)\n",
      "Requirement already satisfied: prompt-toolkit<3.1.0,>=3.0.41 in /opt/conda/lib/python3.11/site-packages (from ipython>=7.23.1->ipykernel) (3.0.42)\n",
      "Requirement already satisfied: pygments>=2.4.0 in /opt/conda/lib/python3.11/site-packages (from ipython>=7.23.1->ipykernel) (2.18.0)\n",
      "Requirement already satisfied: stack-data in /opt/conda/lib/python3.11/site-packages (from ipython>=7.23.1->ipykernel) (0.6.2)\n",
      "Requirement already satisfied: typing-extensions>=4.6 in /opt/conda/lib/python3.11/site-packages (from ipython>=7.23.1->ipykernel) (4.15.0)\n",
      "Requirement already satisfied: pexpect>4.3 in /opt/conda/lib/python3.11/site-packages (from ipython>=7.23.1->ipykernel) (4.9.0)\n",
      "Requirement already satisfied: wcwidth in /opt/conda/lib/python3.11/site-packages (from prompt-toolkit<3.1.0,>=3.0.41->ipython>=7.23.1->ipykernel) (0.2.13)\n",
      "Requirement already satisfied: parso<0.9.0,>=0.8.3 in /opt/conda/lib/python3.11/site-packages (from jedi>=0.16->ipython>=7.23.1->ipykernel) (0.8.4)\n",
      "Requirement already satisfied: python-dateutil>=2.8.2 in /opt/conda/lib/python3.11/site-packages (from jupyter-client>=6.1.12->ipykernel) (2.9.0.post0)\n",
      "Requirement already satisfied: platformdirs>=2.5 in /opt/conda/lib/python3.11/site-packages (from jupyter-core!=5.0.*,>=4.12->ipykernel) (4.2.2)\n",
      "Requirement already satisfied: ptyprocess>=0.5 in /opt/conda/lib/python3.11/site-packages (from pexpect>4.3->ipython>=7.23.1->ipykernel) (0.7.0)\n",
      "Requirement already satisfied: six>=1.5 in /opt/conda/lib/python3.11/site-packages (from python-dateutil>=2.8.2->jupyter-client>=6.1.12->ipykernel) (1.17.0)\n",
      "Requirement already satisfied: executing>=1.2.0 in /opt/conda/lib/python3.11/site-packages (from stack-data->ipython>=7.23.1->ipykernel) (2.0.1)\n",
      "Requirement already satisfied: asttokens>=2.1.0 in /opt/conda/lib/python3.11/site-packages (from stack-data->ipython>=7.23.1->ipykernel) (2.4.1)\n",
      "Requirement already satisfied: pure-eval in /opt/conda/lib/python3.11/site-packages (from stack-data->ipython>=7.23.1->ipykernel) (0.2.2)\n",
      "\n",
      "\u001b[1m[\u001b[0m\u001b[34;49mnotice\u001b[0m\u001b[1;39;49m]\u001b[0m\u001b[39;49m A new release of pip is available: \u001b[0m\u001b[31;49m25.1.1\u001b[0m\u001b[39;49m -> \u001b[0m\u001b[32;49m25.2\u001b[0m\n",
      "\u001b[1m[\u001b[0m\u001b[34;49mnotice\u001b[0m\u001b[1;39;49m]\u001b[0m\u001b[39;49m To update, run: \u001b[0m\u001b[32;49mpip install --upgrade pip\u001b[0m\n"
     ]
    }
   ],
   "source": [
    "!conda activate qiskit043\n",
    "!pip install ipykernel\n"
   ]
  },
  {
   "cell_type": "code",
   "execution_count": 4,
   "id": "84340277-5f83-4c44-b8c9-96216df5e28d",
   "metadata": {},
   "outputs": [
    {
     "name": "stdout",
     "output_type": "stream",
     "text": [
      "0.00s - Debugger warning: It seems that frozen modules are being used, which may\n",
      "0.00s - make the debugger miss breakpoints. Please pass -Xfrozen_modules=off\n",
      "0.00s - to python to disable frozen modules.\n",
      "0.00s - Note: Debugging will proceed. Set PYDEVD_DISABLE_FILE_VALIDATION=1 to disable this validation.\n",
      "Installed kernelspec qiskit043 in /home/jovyan/.local/share/jupyter/kernels/qiskit043\n"
     ]
    }
   ],
   "source": [
    "!python -m ipykernel install --user --name=qiskit043 --display-name \"Python (qiskit043)\"\n"
   ]
  },
  {
   "cell_type": "code",
   "execution_count": 1,
   "id": "f5f00b8e-8c0b-4438-9576-a889bb7eb83b",
   "metadata": {},
   "outputs": [
    {
     "name": "stdout",
     "output_type": "stream",
     "text": [
      "0.24.1\n",
      "0.6.0\n"
     ]
    }
   ],
   "source": [
    "import qiskit\n",
    "import qiskit_nature\n",
    "\n",
    "print(qiskit.__version__)\n",
    "print(qiskit_nature.__version__)\n"
   ]
  },
  {
   "cell_type": "code",
   "execution_count": 2,
   "id": "e43a9569-959c-4a04-8d3b-95c7d6c38d2e",
   "metadata": {},
   "outputs": [
    {
     "ename": "ImportError",
     "evalue": "cannot import name 'PySCFDriver' from 'qiskit_nature.drivers' (/opt/conda/lib/python3.11/site-packages/qiskit_nature/drivers/__init__.py)",
     "output_type": "error",
     "traceback": [
      "\u001b[0;31m---------------------------------------------------------------------------\u001b[0m",
      "\u001b[0;31mImportError\u001b[0m                               Traceback (most recent call last)",
      "Cell \u001b[0;32mIn[2], line 1\u001b[0m\n\u001b[0;32m----> 1\u001b[0m \u001b[38;5;28;01mfrom\u001b[39;00m \u001b[38;5;21;01mqiskit_nature\u001b[39;00m\u001b[38;5;21;01m.\u001b[39;00m\u001b[38;5;21;01mdrivers\u001b[39;00m \u001b[38;5;28;01mimport\u001b[39;00m PySCFDriver\n\u001b[1;32m      2\u001b[0m \u001b[38;5;28;01mfrom\u001b[39;00m \u001b[38;5;21;01mqiskit_nature\u001b[39;00m\u001b[38;5;21;01m.\u001b[39;00m\u001b[38;5;21;01mproblems\u001b[39;00m\u001b[38;5;21;01m.\u001b[39;00m\u001b[38;5;21;01msecond_quantization\u001b[39;00m\u001b[38;5;21;01m.\u001b[39;00m\u001b[38;5;21;01melectronic\u001b[39;00m \u001b[38;5;28;01mimport\u001b[39;00m ElectronicStructureProblem\n\u001b[1;32m      3\u001b[0m \u001b[38;5;28;01mfrom\u001b[39;00m \u001b[38;5;21;01mqiskit_nature\u001b[39;00m\u001b[38;5;21;01m.\u001b[39;00m\u001b[38;5;21;01mconverters\u001b[39;00m\u001b[38;5;21;01m.\u001b[39;00m\u001b[38;5;21;01msecond_quantization\u001b[39;00m \u001b[38;5;28;01mimport\u001b[39;00m QubitConverter\n",
      "\u001b[0;31mImportError\u001b[0m: cannot import name 'PySCFDriver' from 'qiskit_nature.drivers' (/opt/conda/lib/python3.11/site-packages/qiskit_nature/drivers/__init__.py)"
     ]
    }
   ],
   "source": [
    "from qiskit_nature.drivers import PySCFDriver\n",
    "from qiskit_nature.problems.second_quantization.electronic import ElectronicStructureProblem\n",
    "from qiskit_nature.converters.second_quantization import QubitConverter\n",
    "from qiskit_nature.mappers.second_quantization import ParityMapper\n",
    "\n",
    "from qiskit.algorithms import VQE\n",
    "from qiskit.algorithms.optimizers import SLSQP\n",
    "from qiskit.circuit.library import TwoLocal\n",
    "from qiskit.utils import QuantumInstance\n",
    "from qiskit import Aer\n",
    "\n",
    "# Define the H2 molecule\n",
    "driver = PySCFDriver(atom=\"H .0 .0 .0; H .0 .0 0.735\", basis=\"sto3g\")\n",
    "molecule = driver.run()\n",
    "\n",
    "# Electronic structure problem\n",
    "problem = ElectronicStructureProblem(driver)\n",
    "\n",
    "# Map to qubits\n",
    "mapper = ParityMapper()\n",
    "converter = QubitConverter(mapper=mapper)\n",
    "qubit_op = converter.convert(problem.second_q_ops()[0])\n",
    "\n",
    "# Setup VQE with a two-local ansatz\n",
    "ansatz = TwoLocal(rotation_blocks=\"ry\", entanglement_blocks=\"cz\")\n",
    "optimizer = SLSQP(maxiter=100)\n",
    "backend = Aer.get_backend(\"statevector_simulator\")\n",
    "\n",
    "vqe = VQE(ansatz=ansatz, optimizer=optimizer, quantum_instance=QuantumInstance(backend))\n",
    "result = vqe.compute_minimum_eigenvalue(qubit_op)\n",
    "\n",
    "print(\"H2 Ground State Energy (VQE):\", result.eigenvalue.real)\n"
   ]
  },
  {
   "cell_type": "code",
   "execution_count": 3,
   "id": "329df370-5fcf-4b3e-a640-9091461f2779",
   "metadata": {},
   "outputs": [
    {
     "ename": "ModuleNotFoundError",
     "evalue": "No module named 'qiskit_nature.second_q.converters'",
     "output_type": "error",
     "traceback": [
      "\u001b[0;31m---------------------------------------------------------------------------\u001b[0m",
      "\u001b[0;31mModuleNotFoundError\u001b[0m                       Traceback (most recent call last)",
      "Cell \u001b[0;32mIn[3], line 4\u001b[0m\n\u001b[1;32m      2\u001b[0m \u001b[38;5;28;01mfrom\u001b[39;00m \u001b[38;5;21;01mqiskit_nature\u001b[39;00m\u001b[38;5;21;01m.\u001b[39;00m\u001b[38;5;21;01msecond_q\u001b[39;00m\u001b[38;5;21;01m.\u001b[39;00m\u001b[38;5;21;01mproblems\u001b[39;00m \u001b[38;5;28;01mimport\u001b[39;00m ElectronicStructureProblem\n\u001b[1;32m      3\u001b[0m \u001b[38;5;28;01mfrom\u001b[39;00m \u001b[38;5;21;01mqiskit_nature\u001b[39;00m\u001b[38;5;21;01m.\u001b[39;00m\u001b[38;5;21;01msecond_q\u001b[39;00m\u001b[38;5;21;01m.\u001b[39;00m\u001b[38;5;21;01mmappers\u001b[39;00m \u001b[38;5;28;01mimport\u001b[39;00m ParityMapper\n\u001b[0;32m----> 4\u001b[0m \u001b[38;5;28;01mfrom\u001b[39;00m \u001b[38;5;21;01mqiskit_nature\u001b[39;00m\u001b[38;5;21;01m.\u001b[39;00m\u001b[38;5;21;01msecond_q\u001b[39;00m\u001b[38;5;21;01m.\u001b[39;00m\u001b[38;5;21;01mconverters\u001b[39;00m \u001b[38;5;28;01mimport\u001b[39;00m QubitConverter\n\u001b[1;32m      6\u001b[0m \u001b[38;5;28;01mfrom\u001b[39;00m \u001b[38;5;21;01mqiskit\u001b[39;00m\u001b[38;5;21;01m.\u001b[39;00m\u001b[38;5;21;01malgorithms\u001b[39;00m \u001b[38;5;28;01mimport\u001b[39;00m VQE\n\u001b[1;32m      7\u001b[0m \u001b[38;5;28;01mfrom\u001b[39;00m \u001b[38;5;21;01mqiskit\u001b[39;00m\u001b[38;5;21;01m.\u001b[39;00m\u001b[38;5;21;01malgorithms\u001b[39;00m\u001b[38;5;21;01m.\u001b[39;00m\u001b[38;5;21;01moptimizers\u001b[39;00m \u001b[38;5;28;01mimport\u001b[39;00m SLSQP\n",
      "\u001b[0;31mModuleNotFoundError\u001b[0m: No module named 'qiskit_nature.second_q.converters'"
     ]
    }
   ],
   "source": [
    "from qiskit_nature.second_q.drivers import PySCFDriver\n",
    "from qiskit_nature.second_q.problems import ElectronicStructureProblem\n",
    "from qiskit_nature.second_q.mappers import ParityMapper\n",
    "from qiskit_nature.second_q.converters import QubitConverter\n",
    "\n",
    "from qiskit.algorithms import VQE\n",
    "from qiskit.algorithms.optimizers import SLSQP\n",
    "from qiskit.circuit.library import TwoLocal\n",
    "from qiskit.utils import QuantumInstance\n",
    "from qiskit import Aer\n",
    "\n",
    "# Define the H2 molecule\n",
    "driver = PySCFDriver(atom=\"H .0 .0 .0; H .0 .0 0.735\", basis=\"sto3g\")\n",
    "molecule = driver.run()\n",
    "\n",
    "# Electronic structure problem\n",
    "problem = ElectronicStructureProblem(driver)\n",
    "\n",
    "# Map to qubits\n",
    "mapper = ParityMapper()\n",
    "converter = QubitConverter(mapper=mapper)\n",
    "qubit_op = converter.convert(problem.second_q_ops()[0])\n",
    "\n",
    "# Setup VQE with a two-local ansatz\n",
    "ansatz = TwoLocal(rotation_blocks=\"ry\", entanglement_blocks=\"cz\")\n",
    "optimizer = SLSQP(maxiter=100)\n",
    "backend = Aer.get_backend(\"statevector_simulator\")\n",
    "\n",
    "vqe = VQE(ansatz=ansatz, optimizer=optimizer, quantum_instance=QuantumInstance(backend))\n",
    "result = vqe.compute_minimum_eigenvalue(qubit_op)\n",
    "\n",
    "print(\"H2 Ground State Energy (VQE):\", result.eigenvalue.real)\n"
   ]
  },
  {
   "cell_type": "code",
   "execution_count": 7,
   "id": "b98a4fcb-9a74-4fef-8ded-becf7e33e45a",
   "metadata": {},
   "outputs": [
    {
     "ename": "MissingOptionalLibraryError",
     "evalue": "\"The 'pyscf' library is required to use 'PySCFDriver'.  See https://pyscf.org/install.html.\"",
     "output_type": "error",
     "traceback": [
      "\u001b[0;31m---------------------------------------------------------------------------\u001b[0m",
      "\u001b[0;31mMissingOptionalLibraryError\u001b[0m               Traceback (most recent call last)",
      "Cell \u001b[0;32mIn[7], line 12\u001b[0m\n\u001b[1;32m      9\u001b[0m \u001b[38;5;28;01mfrom\u001b[39;00m \u001b[38;5;21;01mqiskit\u001b[39;00m \u001b[38;5;28;01mimport\u001b[39;00m Aer\n\u001b[1;32m     11\u001b[0m \u001b[38;5;66;03m# Define the H2 molecule\u001b[39;00m\n\u001b[0;32m---> 12\u001b[0m driver \u001b[38;5;241m=\u001b[39m \u001b[43mPySCFDriver\u001b[49m\u001b[43m(\u001b[49m\u001b[43matom\u001b[49m\u001b[38;5;241;43m=\u001b[39;49m\u001b[38;5;124;43m\"\u001b[39;49m\u001b[38;5;124;43mH .0 .0 .0; H .0 .0 0.735\u001b[39;49m\u001b[38;5;124;43m\"\u001b[39;49m\u001b[43m,\u001b[49m\u001b[43m \u001b[49m\u001b[43mbasis\u001b[49m\u001b[38;5;241;43m=\u001b[39;49m\u001b[38;5;124;43m\"\u001b[39;49m\u001b[38;5;124;43msto3g\u001b[39;49m\u001b[38;5;124;43m\"\u001b[39;49m\u001b[43m)\u001b[49m\n\u001b[1;32m     13\u001b[0m molecule \u001b[38;5;241m=\u001b[39m driver\u001b[38;5;241m.\u001b[39mrun()\n\u001b[1;32m     15\u001b[0m \u001b[38;5;66;03m# Build the problem\u001b[39;00m\n",
      "File \u001b[0;32m/opt/conda/lib/python3.11/site-packages/qiskit/utils/classtools.py:111\u001b[0m, in \u001b[0;36m_WrappedMethod.__get__.<locals>.out\u001b[0;34m(*args, **kwargs)\u001b[0m\n\u001b[1;32m    108\u001b[0m \u001b[38;5;129m@functools\u001b[39m\u001b[38;5;241m.\u001b[39mwraps(method)\n\u001b[1;32m    109\u001b[0m \u001b[38;5;28;01mdef\u001b[39;00m \u001b[38;5;21mout\u001b[39m(\u001b[38;5;241m*\u001b[39margs, \u001b[38;5;241m*\u001b[39m\u001b[38;5;241m*\u001b[39mkwargs):\n\u001b[1;32m    110\u001b[0m     \u001b[38;5;28;01mfor\u001b[39;00m callback \u001b[38;5;129;01min\u001b[39;00m \u001b[38;5;28mself\u001b[39m\u001b[38;5;241m.\u001b[39m_before:\n\u001b[0;32m--> 111\u001b[0m         \u001b[43mcallback\u001b[49m\u001b[38;5;241;43m.\u001b[39;49m\u001b[38;5;21;43m__get__\u001b[39;49m\u001b[43m(\u001b[49m\u001b[43mobj\u001b[49m\u001b[43m,\u001b[49m\u001b[43m \u001b[49m\u001b[43mobjtype\u001b[49m\u001b[43m)\u001b[49m\u001b[43m(\u001b[49m\u001b[38;5;241;43m*\u001b[39;49m\u001b[43margs\u001b[49m\u001b[43m,\u001b[49m\u001b[43m \u001b[49m\u001b[38;5;241;43m*\u001b[39;49m\u001b[38;5;241;43m*\u001b[39;49m\u001b[43mkwargs\u001b[49m\u001b[43m)\u001b[49m\n\u001b[1;32m    112\u001b[0m     retval \u001b[38;5;241m=\u001b[39m method(\u001b[38;5;241m*\u001b[39margs, \u001b[38;5;241m*\u001b[39m\u001b[38;5;241m*\u001b[39mkwargs)\n\u001b[1;32m    113\u001b[0m     \u001b[38;5;28;01mfor\u001b[39;00m callback \u001b[38;5;129;01min\u001b[39;00m \u001b[38;5;28mself\u001b[39m\u001b[38;5;241m.\u001b[39m_after:\n",
      "File \u001b[0;32m/opt/conda/lib/python3.11/site-packages/qiskit/utils/lazy_tester.py:39\u001b[0m, in \u001b[0;36m_RequireNow.__call__\u001b[0;34m(self, *_args, **_kwargs)\u001b[0m\n\u001b[1;32m     38\u001b[0m \u001b[38;5;28;01mdef\u001b[39;00m \u001b[38;5;21m__call__\u001b[39m(\u001b[38;5;28mself\u001b[39m, \u001b[38;5;241m*\u001b[39m_args, \u001b[38;5;241m*\u001b[39m\u001b[38;5;241m*\u001b[39m_kwargs):\n\u001b[0;32m---> 39\u001b[0m     \u001b[38;5;28;43mself\u001b[39;49m\u001b[38;5;241;43m.\u001b[39;49m\u001b[43m_tester\u001b[49m\u001b[38;5;241;43m.\u001b[39;49m\u001b[43mrequire_now\u001b[49m\u001b[43m(\u001b[49m\u001b[38;5;28;43mself\u001b[39;49m\u001b[38;5;241;43m.\u001b[39;49m\u001b[43m_feature\u001b[49m\u001b[43m)\u001b[49m\n",
      "File \u001b[0;32m/opt/conda/lib/python3.11/site-packages/qiskit/utils/lazy_tester.py:223\u001b[0m, in \u001b[0;36mLazyDependencyManager.require_now\u001b[0;34m(self, feature)\u001b[0m\n\u001b[1;32m    221\u001b[0m \u001b[38;5;28;01mif\u001b[39;00m \u001b[38;5;28mself\u001b[39m:\n\u001b[1;32m    222\u001b[0m     \u001b[38;5;28;01mreturn\u001b[39;00m\n\u001b[0;32m--> 223\u001b[0m \u001b[38;5;28;01mraise\u001b[39;00m MissingOptionalLibraryError(\n\u001b[1;32m    224\u001b[0m     libname\u001b[38;5;241m=\u001b[39m\u001b[38;5;28mself\u001b[39m\u001b[38;5;241m.\u001b[39m_name, name\u001b[38;5;241m=\u001b[39mfeature, pip_install\u001b[38;5;241m=\u001b[39m\u001b[38;5;28mself\u001b[39m\u001b[38;5;241m.\u001b[39m_install, msg\u001b[38;5;241m=\u001b[39m\u001b[38;5;28mself\u001b[39m\u001b[38;5;241m.\u001b[39m_msg\n\u001b[1;32m    225\u001b[0m )\n",
      "\u001b[0;31mMissingOptionalLibraryError\u001b[0m: \"The 'pyscf' library is required to use 'PySCFDriver'.  See https://pyscf.org/install.html.\""
     ]
    }
   ],
   "source": [
    "from qiskit_nature.second_q.drivers import PySCFDriver\n",
    "from qiskit_nature.second_q.problems import ElectronicStructureProblem\n",
    "from qiskit_nature.second_q.mappers import ParityMapper\n",
    "\n",
    "from qiskit.algorithms import VQE\n",
    "from qiskit.algorithms.optimizers import SLSQP\n",
    "from qiskit.circuit.library import TwoLocal\n",
    "from qiskit.utils import QuantumInstance\n",
    "from qiskit import Aer\n",
    "\n",
    "# Define the H2 molecule\n",
    "driver = PySCFDriver(atom=\"H .0 .0 .0; H .0 .0 0.735\", basis=\"sto3g\")\n",
    "molecule = driver.run()\n",
    "\n",
    "# Build the problem\n",
    "problem = ElectronicStructureProblem(driver)\n",
    "\n",
    "# Get the second-quantized Hamiltonian\n",
    "second_q_ops = problem.second_q_ops()\n",
    "hamiltonian_op = second_q_ops[0]\n",
    "\n",
    "# Map to qubits (no QubitConverter in 0.6.0!)\n",
    "mapper = ParityMapper()\n",
    "qubit_op = mapper.map(hamiltonian_op)\n",
    "\n",
    "# Setup VQE\n",
    "ansatz = TwoLocal(rotation_blocks=\"ry\", entanglement_blocks=\"cz\")\n",
    "optimizer = SLSQP(maxiter=100)\n",
    "backend = Aer.get_backend(\"statevector_simulator\")\n",
    "\n",
    "vqe = VQE(ansatz=ansatz, optimizer=optimizer, quantum_instance=QuantumInstance(backend))\n",
    "result = vqe.compute_minimum_eigenvalue(qubit_op)\n",
    "\n",
    "print(\"H2 Ground State Energy (VQE):\", result.eigenvalue.real)\n"
   ]
  },
  {
   "cell_type": "code",
   "execution_count": 5,
   "id": "ad902589-38ce-478b-a221-247e8b08fd32",
   "metadata": {},
   "outputs": [
    {
     "name": "stdout",
     "output_type": "stream",
     "text": [
      "Collecting pyscf\n",
      "  Downloading pyscf-2.10.0-py3-none-manylinux_2_17_x86_64.manylinux2014_x86_64.whl.metadata (6.4 kB)\n",
      "Requirement already satisfied: numpy!=1.16,!=1.17,>=1.13 in /opt/conda/lib/python3.11/site-packages (from pyscf) (1.23.5)\n",
      "Requirement already satisfied: scipy>=1.6.0 in /opt/conda/lib/python3.11/site-packages (from pyscf) (1.15.3)\n",
      "Requirement already satisfied: h5py>=2.7 in /opt/conda/lib/python3.11/site-packages (from pyscf) (3.14.0)\n",
      "Requirement already satisfied: setuptools in /opt/conda/lib/python3.11/site-packages (from pyscf) (80.9.0)\n",
      "Downloading pyscf-2.10.0-py3-none-manylinux_2_17_x86_64.manylinux2014_x86_64.whl (51.2 MB)\n",
      "\u001b[2K   \u001b[90m━━━━━━━━━━━━━━━━━━━━━━━━━━━━━━━━━━━━━━━━\u001b[0m \u001b[32m51.2/51.2 MB\u001b[0m \u001b[31m116.2 MB/s\u001b[0m eta \u001b[36m0:00:00\u001b[0m00:01\u001b[0m00:01\u001b[0m\n",
      "\u001b[?25hInstalling collected packages: pyscf\n",
      "Successfully installed pyscf-2.10.0\n",
      "\n",
      "\u001b[1m[\u001b[0m\u001b[34;49mnotice\u001b[0m\u001b[1;39;49m]\u001b[0m\u001b[39;49m A new release of pip is available: \u001b[0m\u001b[31;49m25.1.1\u001b[0m\u001b[39;49m -> \u001b[0m\u001b[32;49m25.2\u001b[0m\n",
      "\u001b[1m[\u001b[0m\u001b[34;49mnotice\u001b[0m\u001b[1;39;49m]\u001b[0m\u001b[39;49m To update, run: \u001b[0m\u001b[32;49mpip install --upgrade pip\u001b[0m\n"
     ]
    }
   ],
   "source": [
    "!pip install pyscf\n"
   ]
  },
  {
   "cell_type": "code",
   "execution_count": 8,
   "id": "70c549dc-d3cd-4df3-9328-ce1a00272a3f",
   "metadata": {},
   "outputs": [
    {
     "ename": "ImportError",
     "evalue": "cannot import name 'BaseSamplerV2' from 'qiskit.primitives' (/opt/conda/lib/python3.11/site-packages/qiskit/primitives/__init__.py)",
     "output_type": "error",
     "traceback": [
      "\u001b[0;31m---------------------------------------------------------------------------\u001b[0m",
      "\u001b[0;31mImportError\u001b[0m                               Traceback (most recent call last)",
      "Cell \u001b[0;32mIn[8], line 5\u001b[0m\n\u001b[1;32m      2\u001b[0m \u001b[38;5;28;01mfrom\u001b[39;00m \u001b[38;5;21;01mqiskit_nature\u001b[39;00m\u001b[38;5;21;01m.\u001b[39;00m\u001b[38;5;21;01msecond_q\u001b[39;00m\u001b[38;5;21;01m.\u001b[39;00m\u001b[38;5;21;01mmappers\u001b[39;00m \u001b[38;5;28;01mimport\u001b[39;00m ParityMapper\n\u001b[1;32m      3\u001b[0m \u001b[38;5;28;01mfrom\u001b[39;00m \u001b[38;5;21;01mqiskit_nature\u001b[39;00m\u001b[38;5;21;01m.\u001b[39;00m\u001b[38;5;21;01msecond_q\u001b[39;00m\u001b[38;5;21;01m.\u001b[39;00m\u001b[38;5;21;01mproblems\u001b[39;00m \u001b[38;5;28;01mimport\u001b[39;00m ElectronicStructureProblem\n\u001b[0;32m----> 5\u001b[0m \u001b[38;5;28;01mfrom\u001b[39;00m \u001b[38;5;21;01mqiskit_algorithms\u001b[39;00m \u001b[38;5;28;01mimport\u001b[39;00m VQE\n\u001b[1;32m      6\u001b[0m \u001b[38;5;28;01mfrom\u001b[39;00m \u001b[38;5;21;01mqiskit_algorithms\u001b[39;00m\u001b[38;5;21;01m.\u001b[39;00m\u001b[38;5;21;01moptimizers\u001b[39;00m \u001b[38;5;28;01mimport\u001b[39;00m SLSQP\n\u001b[1;32m      7\u001b[0m \u001b[38;5;28;01mfrom\u001b[39;00m \u001b[38;5;21;01mqiskit\u001b[39;00m\u001b[38;5;21;01m.\u001b[39;00m\u001b[38;5;21;01mcircuit\u001b[39;00m\u001b[38;5;21;01m.\u001b[39;00m\u001b[38;5;21;01mlibrary\u001b[39;00m \u001b[38;5;28;01mimport\u001b[39;00m TwoLocal\n",
      "File \u001b[0;32m/opt/conda/lib/python3.11/site-packages/qiskit_algorithms/__init__.py:254\u001b[0m\n\u001b[1;32m    252\u001b[0m \u001b[38;5;28;01mfrom\u001b[39;00m \u001b[38;5;21;01m.\u001b[39;00m\u001b[38;5;21;01malgorithm_job\u001b[39;00m \u001b[38;5;28;01mimport\u001b[39;00m AlgorithmJob\n\u001b[1;32m    253\u001b[0m \u001b[38;5;28;01mfrom\u001b[39;00m \u001b[38;5;21;01m.\u001b[39;00m\u001b[38;5;21;01malgorithm_result\u001b[39;00m \u001b[38;5;28;01mimport\u001b[39;00m AlgorithmResult\n\u001b[0;32m--> 254\u001b[0m \u001b[38;5;28;01mfrom\u001b[39;00m \u001b[38;5;21;01m.\u001b[39;00m\u001b[38;5;21;01mvariational_algorithm\u001b[39;00m \u001b[38;5;28;01mimport\u001b[39;00m VariationalAlgorithm, VariationalResult\n\u001b[1;32m    255\u001b[0m \u001b[38;5;28;01mfrom\u001b[39;00m \u001b[38;5;21;01m.\u001b[39;00m\u001b[38;5;21;01mamplitude_amplifiers\u001b[39;00m \u001b[38;5;28;01mimport\u001b[39;00m Grover, GroverResult, AmplificationProblem, AmplitudeAmplifier\n\u001b[1;32m    256\u001b[0m \u001b[38;5;28;01mfrom\u001b[39;00m \u001b[38;5;21;01m.\u001b[39;00m\u001b[38;5;21;01mamplitude_estimators\u001b[39;00m \u001b[38;5;28;01mimport\u001b[39;00m (\n\u001b[1;32m    257\u001b[0m     AmplitudeEstimator,\n\u001b[1;32m    258\u001b[0m     AmplitudeEstimatorResult,\n\u001b[0;32m   (...)\u001b[0m\n\u001b[1;32m    267\u001b[0m     EstimationProblem,\n\u001b[1;32m    268\u001b[0m )\n",
      "File \u001b[0;32m/opt/conda/lib/python3.11/site-packages/qiskit_algorithms/variational_algorithm.py:36\u001b[0m\n\u001b[1;32m     33\u001b[0m \u001b[38;5;28;01mfrom\u001b[39;00m \u001b[38;5;21;01mqiskit\u001b[39;00m\u001b[38;5;21;01m.\u001b[39;00m\u001b[38;5;21;01mcircuit\u001b[39;00m \u001b[38;5;28;01mimport\u001b[39;00m QuantumCircuit\n\u001b[1;32m     35\u001b[0m \u001b[38;5;28;01mfrom\u001b[39;00m \u001b[38;5;21;01m.\u001b[39;00m\u001b[38;5;21;01malgorithm_result\u001b[39;00m \u001b[38;5;28;01mimport\u001b[39;00m AlgorithmResult\n\u001b[0;32m---> 36\u001b[0m \u001b[38;5;28;01mfrom\u001b[39;00m \u001b[38;5;21;01m.\u001b[39;00m\u001b[38;5;21;01moptimizers\u001b[39;00m \u001b[38;5;28;01mimport\u001b[39;00m OptimizerResult\n\u001b[1;32m     39\u001b[0m \u001b[38;5;28;01mclass\u001b[39;00m \u001b[38;5;21;01mVariationalAlgorithm\u001b[39;00m(ABC):\n\u001b[1;32m     40\u001b[0m \u001b[38;5;250m    \u001b[39m\u001b[38;5;124;03m\"\"\"The Variational Algorithm Base Class.\"\"\"\u001b[39;00m\n",
      "File \u001b[0;32m/opt/conda/lib/python3.11/site-packages/qiskit_algorithms/optimizers/__init__.py:150\u001b[0m\n\u001b[1;32m    148\u001b[0m \u001b[38;5;28;01mfrom\u001b[39;00m \u001b[38;5;21;01m.\u001b[39;00m\u001b[38;5;21;01mp_bfgs\u001b[39;00m \u001b[38;5;28;01mimport\u001b[39;00m P_BFGS\n\u001b[1;32m    149\u001b[0m \u001b[38;5;28;01mfrom\u001b[39;00m \u001b[38;5;21;01m.\u001b[39;00m\u001b[38;5;21;01mpowell\u001b[39;00m \u001b[38;5;28;01mimport\u001b[39;00m POWELL\n\u001b[0;32m--> 150\u001b[0m \u001b[38;5;28;01mfrom\u001b[39;00m \u001b[38;5;21;01m.\u001b[39;00m\u001b[38;5;21;01mqnspsa\u001b[39;00m \u001b[38;5;28;01mimport\u001b[39;00m QNSPSA\n\u001b[1;32m    151\u001b[0m \u001b[38;5;28;01mfrom\u001b[39;00m \u001b[38;5;21;01m.\u001b[39;00m\u001b[38;5;21;01mscipy_optimizer\u001b[39;00m \u001b[38;5;28;01mimport\u001b[39;00m SciPyOptimizer\n\u001b[1;32m    152\u001b[0m \u001b[38;5;28;01mfrom\u001b[39;00m \u001b[38;5;21;01m.\u001b[39;00m\u001b[38;5;21;01mslsqp\u001b[39;00m \u001b[38;5;28;01mimport\u001b[39;00m SLSQP\n",
      "File \u001b[0;32m/opt/conda/lib/python3.11/site-packages/qiskit_algorithms/optimizers/qnspsa.py:23\u001b[0m\n\u001b[1;32m     20\u001b[0m \u001b[38;5;28;01mimport\u001b[39;00m \u001b[38;5;21;01mnumpy\u001b[39;00m \u001b[38;5;28;01mas\u001b[39;00m \u001b[38;5;21;01mnp\u001b[39;00m\n\u001b[1;32m     21\u001b[0m \u001b[38;5;28;01mfrom\u001b[39;00m \u001b[38;5;21;01mqiskit\u001b[39;00m\u001b[38;5;21;01m.\u001b[39;00m\u001b[38;5;21;01mcircuit\u001b[39;00m \u001b[38;5;28;01mimport\u001b[39;00m QuantumCircuit\n\u001b[0;32m---> 23\u001b[0m \u001b[38;5;28;01mfrom\u001b[39;00m \u001b[38;5;21;01mqiskit\u001b[39;00m\u001b[38;5;21;01m.\u001b[39;00m\u001b[38;5;21;01mprimitives\u001b[39;00m \u001b[38;5;28;01mimport\u001b[39;00m BaseSamplerV2\n\u001b[1;32m     24\u001b[0m \u001b[38;5;28;01mfrom\u001b[39;00m \u001b[38;5;21;01mqiskit_algorithms\u001b[39;00m\u001b[38;5;21;01m.\u001b[39;00m\u001b[38;5;21;01mstate_fidelities\u001b[39;00m \u001b[38;5;28;01mimport\u001b[39;00m ComputeUncompute\n\u001b[1;32m     26\u001b[0m \u001b[38;5;28;01mfrom\u001b[39;00m \u001b[38;5;21;01m.\u001b[39;00m\u001b[38;5;21;01mspsa\u001b[39;00m \u001b[38;5;28;01mimport\u001b[39;00m SPSA, CALLBACK, TERMINATIONCHECKER, _batch_evaluate\n",
      "\u001b[0;31mImportError\u001b[0m: cannot import name 'BaseSamplerV2' from 'qiskit.primitives' (/opt/conda/lib/python3.11/site-packages/qiskit/primitives/__init__.py)"
     ]
    }
   ],
   "source": [
    "from qiskit_nature.second_q.drivers import PySCFDriver\n",
    "from qiskit_nature.second_q.mappers import ParityMapper\n",
    "from qiskit_nature.second_q.problems import ElectronicStructureProblem\n",
    "\n",
    "from qiskit_algorithms import VQE\n",
    "from qiskit_algorithms.optimizers import SLSQP\n",
    "from qiskit.circuit.library import TwoLocal\n",
    "from qiskit.primitives import Estimator\n",
    "\n",
    "# Define the H2 molecule\n",
    "driver = PySCFDriver(atom=\"H .0 .0 .0; H .0 .0 0.735\", basis=\"sto3g\")\n",
    "problem = ElectronicStructureProblem(driver)\n",
    "second_q_op = problem.second_q_ops()[0]\n",
    "\n",
    "# Map fermionic operators to qubit operators\n",
    "mapper = ParityMapper()\n",
    "qubit_op = mapper.map(second_q_op)\n",
    "\n",
    "# Variational form (ansatz)\n",
    "ansatz = TwoLocal(rotation_blocks=\"ry\", entanglement_blocks=\"cz\")\n",
    "\n",
    "# Optimizer\n",
    "optimizer = SLSQP(maxiter=1000)\n",
    "\n",
    "# VQE with Estimator primitive\n",
    "vqe = VQE(Estimator(), ansatz, optimizer)\n",
    "\n",
    "# Compute ground state energy\n",
    "result = vqe.compute_minimum_eigenvalue(qubit_op)\n",
    "\n",
    "print(\"Ground state energy (H2):\", result.eigenvalue.real)\n"
   ]
  },
  {
   "cell_type": "code",
   "execution_count": 9,
   "id": "db9f3232-b77b-420a-bffb-bcbfd7e7bb7a",
   "metadata": {},
   "outputs": [
    {
     "name": "stdout",
     "output_type": "stream",
     "text": [
      "Collecting qiskit==0.46.3\n",
      "  Downloading qiskit-0.46.3-py3-none-any.whl.metadata (12 kB)\n",
      "Collecting qiskit-algorithms==0.3.0\n",
      "  Downloading qiskit_algorithms-0.3.0-py3-none-any.whl.metadata (4.2 kB)\n",
      "Requirement already satisfied: qiskit-nature==0.6.0 in /opt/conda/lib/python3.11/site-packages (0.6.0)\n",
      "Collecting qiskit-terra==0.46.3 (from qiskit==0.46.3)\n",
      "  Using cached qiskit_terra-0.46.3-cp38-abi3-manylinux_2_17_x86_64.manylinux2014_x86_64.whl.metadata (13 kB)\n",
      "Requirement already satisfied: scipy>=1.4 in /opt/conda/lib/python3.11/site-packages (from qiskit-algorithms==0.3.0) (1.15.3)\n",
      "Requirement already satisfied: numpy>=1.17 in /opt/conda/lib/python3.11/site-packages (from qiskit-algorithms==0.3.0) (1.23.5)\n",
      "Requirement already satisfied: psutil>=5 in /opt/conda/lib/python3.11/site-packages (from qiskit-nature==0.6.0) (7.0.0)\n",
      "Requirement already satisfied: scikit-learn>=0.20.0 in /opt/conda/lib/python3.11/site-packages (from qiskit-nature==0.6.0) (1.7.1)\n",
      "Requirement already satisfied: setuptools>=40.1.0 in /opt/conda/lib/python3.11/site-packages (from qiskit-nature==0.6.0) (80.9.0)\n",
      "Requirement already satisfied: typing-extensions in /opt/conda/lib/python3.11/site-packages (from qiskit-nature==0.6.0) (4.15.0)\n",
      "Requirement already satisfied: h5py in /opt/conda/lib/python3.11/site-packages (from qiskit-nature==0.6.0) (3.14.0)\n",
      "Requirement already satisfied: rustworkx in /opt/conda/lib/python3.11/site-packages (from qiskit-nature==0.6.0) (0.17.1)\n",
      "Requirement already satisfied: ply>=3.10 in /opt/conda/lib/python3.11/site-packages (from qiskit-terra==0.46.3->qiskit==0.46.3) (3.11)\n",
      "Requirement already satisfied: sympy>=1.3 in /opt/conda/lib/python3.11/site-packages (from qiskit-terra==0.46.3->qiskit==0.46.3) (1.14.0)\n",
      "Requirement already satisfied: dill>=0.3 in /opt/conda/lib/python3.11/site-packages (from qiskit-terra==0.46.3->qiskit==0.46.3) (0.4.0)\n",
      "Requirement already satisfied: python-dateutil>=2.8.0 in /opt/conda/lib/python3.11/site-packages (from qiskit-terra==0.46.3->qiskit==0.46.3) (2.9.0.post0)\n",
      "Requirement already satisfied: stevedore>=3.0.0 in /opt/conda/lib/python3.11/site-packages (from qiskit-terra==0.46.3->qiskit==0.46.3) (5.5.0)\n",
      "Collecting symengine>=0.11 (from qiskit-terra==0.46.3->qiskit==0.46.3)\n",
      "  Using cached symengine-0.14.1-cp311-cp311-manylinux_2_17_x86_64.manylinux2014_x86_64.whl.metadata (1.3 kB)\n",
      "Requirement already satisfied: six>=1.5 in /opt/conda/lib/python3.11/site-packages (from python-dateutil>=2.8.0->qiskit-terra==0.46.3->qiskit==0.46.3) (1.17.0)\n",
      "Requirement already satisfied: joblib>=1.2.0 in /opt/conda/lib/python3.11/site-packages (from scikit-learn>=0.20.0->qiskit-nature==0.6.0) (1.5.2)\n",
      "Requirement already satisfied: threadpoolctl>=3.1.0 in /opt/conda/lib/python3.11/site-packages (from scikit-learn>=0.20.0->qiskit-nature==0.6.0) (3.6.0)\n",
      "Requirement already satisfied: mpmath<1.4,>=1.1.0 in /opt/conda/lib/python3.11/site-packages (from sympy>=1.3->qiskit-terra==0.46.3->qiskit==0.46.3) (1.3.0)\n",
      "Downloading qiskit-0.46.3-py3-none-any.whl (10.0 kB)\n",
      "Downloading qiskit_algorithms-0.3.0-py3-none-any.whl (308 kB)\n",
      "Using cached qiskit_terra-0.46.3-cp38-abi3-manylinux_2_17_x86_64.manylinux2014_x86_64.whl (5.4 MB)\n",
      "Using cached symengine-0.14.1-cp311-cp311-manylinux_2_17_x86_64.manylinux2014_x86_64.whl (50.4 MB)\n",
      "Installing collected packages: symengine, qiskit-terra, qiskit, qiskit-algorithms\n",
      "\u001b[2K  Attempting uninstall: symengine\n",
      "\u001b[2K    Found existing installation: symengine 0.9.2\n",
      "\u001b[2K    Uninstalling symengine-0.9.2:\n",
      "\u001b[2K      Successfully uninstalled symengine-0.9.2\n",
      "\u001b[2K  Attempting uninstall: qiskit-terra━━━━━━━━━━━━\u001b[0m \u001b[32m0/4\u001b[0m [symengine]\n",
      "\u001b[2K    Found existing installation: qiskit-terra 0.24.12m0/4\u001b[0m [symengine]\n",
      "\u001b[2K    Uninstalling qiskit-terra-0.24.1:━━━━━━━━━━━━━━━━━━━━━━━━━━━━━\u001b[0m \u001b[32m1/4\u001b[0m [qiskit-terra]\n",
      "\u001b[2K      Successfully uninstalled qiskit-terra-0.24.1━━━━━━━━━━━━\u001b[0m \u001b[32m1/4\u001b[0m [qiskit-terra]\n",
      "\u001b[2K  Attempting uninstall: qiskit0m\u001b[90m━━━━━━━━━━━━━━━━━━━━━━━━━━━━━\u001b[0m \u001b[32m1/4\u001b[0m [qiskit-terra]\n",
      "\u001b[2K    Found existing installation: qiskit 0.43.2━━━━━━━━━━━━━━━━\u001b[0m \u001b[32m1/4\u001b[0m [qiskit-terra]\n",
      "\u001b[2K    Uninstalling qiskit-0.43.2:0m━━━━━━━━━━━━━━━━━━━━━━━━━━━━━\u001b[0m \u001b[32m1/4\u001b[0m [qiskit-terra]\n",
      "\u001b[2K      Successfully uninstalled qiskit-0.43.2━━━━━━━━━━━━━━━━━━\u001b[0m \u001b[32m1/4\u001b[0m [qiskit-terra]\n",
      "\u001b[2K  Attempting uninstall: qiskit-algorithms━━━━━━━━━━━━━━━━━━━━━\u001b[0m \u001b[32m1/4\u001b[0m [qiskit-terra]\n",
      "\u001b[2K    Found existing installation: qiskit-algorithms 0.4.0━━━━━━\u001b[0m \u001b[32m1/4\u001b[0m [qiskit-terra]\n",
      "\u001b[2K    Uninstalling qiskit-algorithms-0.4.0:━━━━━━━━━━━━━━━━━━━━━\u001b[0m \u001b[32m1/4\u001b[0m [qiskit-terra]\n",
      "\u001b[2K      Successfully uninstalled qiskit-algorithms-0.4.0━━━━━━━━\u001b[0m \u001b[32m1/4\u001b[0m [qiskit-terra]\n",
      "\u001b[2K   \u001b[90m━━━━━━━━━━━━━━━━━━━━━━━━━━━━━━━━━━━━━━━━\u001b[0m \u001b[32m4/4\u001b[0m [qiskit-algorithms]qiskit-algorithms]\n",
      "\u001b[1A\u001b[2KSuccessfully installed qiskit-0.46.3 qiskit-algorithms-0.3.0 qiskit-terra-0.46.3 symengine-0.14.1\n",
      "\n",
      "\u001b[1m[\u001b[0m\u001b[34;49mnotice\u001b[0m\u001b[1;39;49m]\u001b[0m\u001b[39;49m A new release of pip is available: \u001b[0m\u001b[31;49m25.1.1\u001b[0m\u001b[39;49m -> \u001b[0m\u001b[32;49m25.2\u001b[0m\n",
      "\u001b[1m[\u001b[0m\u001b[34;49mnotice\u001b[0m\u001b[1;39;49m]\u001b[0m\u001b[39;49m To update, run: \u001b[0m\u001b[32;49mpip install --upgrade pip\u001b[0m\n"
     ]
    }
   ],
   "source": [
    "!pip install -U \"qiskit==0.46.3\" \"qiskit-algorithms==0.3.0\" \"qiskit-nature==0.6.0\"\n"
   ]
  },
  {
   "cell_type": "code",
   "execution_count": 10,
   "id": "5f17ad7c-26c5-4752-848f-f4927494881a",
   "metadata": {},
   "outputs": [
    {
     "ename": "MissingOptionalLibraryError",
     "evalue": "\"The 'pyscf' library is required to use 'PySCFDriver'.  See https://pyscf.org/install.html.\"",
     "output_type": "error",
     "traceback": [
      "\u001b[0;31m---------------------------------------------------------------------------\u001b[0m",
      "\u001b[0;31mMissingOptionalLibraryError\u001b[0m               Traceback (most recent call last)",
      "Cell \u001b[0;32mIn[10], line 11\u001b[0m\n\u001b[1;32m      8\u001b[0m \u001b[38;5;28;01mfrom\u001b[39;00m \u001b[38;5;21;01mqiskit\u001b[39;00m\u001b[38;5;21;01m.\u001b[39;00m\u001b[38;5;21;01mprimitives\u001b[39;00m \u001b[38;5;28;01mimport\u001b[39;00m Estimator\n\u001b[1;32m     10\u001b[0m \u001b[38;5;66;03m# 1. Define molecule (H2 at bond distance 0.735 Å)\u001b[39;00m\n\u001b[0;32m---> 11\u001b[0m driver \u001b[38;5;241m=\u001b[39m \u001b[43mPySCFDriver\u001b[49m\u001b[43m(\u001b[49m\u001b[43matom\u001b[49m\u001b[38;5;241;43m=\u001b[39;49m\u001b[38;5;124;43m\"\u001b[39;49m\u001b[38;5;124;43mH .0 .0 .0; H .0 .0 0.735\u001b[39;49m\u001b[38;5;124;43m\"\u001b[39;49m\u001b[43m,\u001b[49m\u001b[43m \u001b[49m\u001b[43mbasis\u001b[49m\u001b[38;5;241;43m=\u001b[39;49m\u001b[38;5;124;43m\"\u001b[39;49m\u001b[38;5;124;43msto3g\u001b[39;49m\u001b[38;5;124;43m\"\u001b[39;49m\u001b[43m)\u001b[49m\n\u001b[1;32m     12\u001b[0m molecule \u001b[38;5;241m=\u001b[39m driver\u001b[38;5;241m.\u001b[39mrun()\n\u001b[1;32m     14\u001b[0m \u001b[38;5;66;03m# 2. Setup problem\u001b[39;00m\n",
      "File \u001b[0;32m/opt/conda/lib/python3.11/site-packages/qiskit/utils/classtools.py:111\u001b[0m, in \u001b[0;36m_WrappedMethod.__get__.<locals>.out\u001b[0;34m(*args, **kwargs)\u001b[0m\n\u001b[1;32m    108\u001b[0m \u001b[38;5;129m@functools\u001b[39m\u001b[38;5;241m.\u001b[39mwraps(method)\n\u001b[1;32m    109\u001b[0m \u001b[38;5;28;01mdef\u001b[39;00m \u001b[38;5;21mout\u001b[39m(\u001b[38;5;241m*\u001b[39margs, \u001b[38;5;241m*\u001b[39m\u001b[38;5;241m*\u001b[39mkwargs):\n\u001b[1;32m    110\u001b[0m     \u001b[38;5;28;01mfor\u001b[39;00m callback \u001b[38;5;129;01min\u001b[39;00m \u001b[38;5;28mself\u001b[39m\u001b[38;5;241m.\u001b[39m_before:\n\u001b[0;32m--> 111\u001b[0m         \u001b[43mcallback\u001b[49m\u001b[38;5;241;43m.\u001b[39;49m\u001b[38;5;21;43m__get__\u001b[39;49m\u001b[43m(\u001b[49m\u001b[43mobj\u001b[49m\u001b[43m,\u001b[49m\u001b[43m \u001b[49m\u001b[43mobjtype\u001b[49m\u001b[43m)\u001b[49m\u001b[43m(\u001b[49m\u001b[38;5;241;43m*\u001b[39;49m\u001b[43margs\u001b[49m\u001b[43m,\u001b[49m\u001b[43m \u001b[49m\u001b[38;5;241;43m*\u001b[39;49m\u001b[38;5;241;43m*\u001b[39;49m\u001b[43mkwargs\u001b[49m\u001b[43m)\u001b[49m\n\u001b[1;32m    112\u001b[0m     retval \u001b[38;5;241m=\u001b[39m method(\u001b[38;5;241m*\u001b[39margs, \u001b[38;5;241m*\u001b[39m\u001b[38;5;241m*\u001b[39mkwargs)\n\u001b[1;32m    113\u001b[0m     \u001b[38;5;28;01mfor\u001b[39;00m callback \u001b[38;5;129;01min\u001b[39;00m \u001b[38;5;28mself\u001b[39m\u001b[38;5;241m.\u001b[39m_after:\n",
      "File \u001b[0;32m/opt/conda/lib/python3.11/site-packages/qiskit/utils/lazy_tester.py:39\u001b[0m, in \u001b[0;36m_RequireNow.__call__\u001b[0;34m(self, *_args, **_kwargs)\u001b[0m\n\u001b[1;32m     38\u001b[0m \u001b[38;5;28;01mdef\u001b[39;00m \u001b[38;5;21m__call__\u001b[39m(\u001b[38;5;28mself\u001b[39m, \u001b[38;5;241m*\u001b[39m_args, \u001b[38;5;241m*\u001b[39m\u001b[38;5;241m*\u001b[39m_kwargs):\n\u001b[0;32m---> 39\u001b[0m     \u001b[38;5;28;43mself\u001b[39;49m\u001b[38;5;241;43m.\u001b[39;49m\u001b[43m_tester\u001b[49m\u001b[38;5;241;43m.\u001b[39;49m\u001b[43mrequire_now\u001b[49m\u001b[43m(\u001b[49m\u001b[38;5;28;43mself\u001b[39;49m\u001b[38;5;241;43m.\u001b[39;49m\u001b[43m_feature\u001b[49m\u001b[43m)\u001b[49m\n",
      "File \u001b[0;32m/opt/conda/lib/python3.11/site-packages/qiskit/utils/lazy_tester.py:223\u001b[0m, in \u001b[0;36mLazyDependencyManager.require_now\u001b[0;34m(self, feature)\u001b[0m\n\u001b[1;32m    221\u001b[0m \u001b[38;5;28;01mif\u001b[39;00m \u001b[38;5;28mself\u001b[39m:\n\u001b[1;32m    222\u001b[0m     \u001b[38;5;28;01mreturn\u001b[39;00m\n\u001b[0;32m--> 223\u001b[0m \u001b[38;5;28;01mraise\u001b[39;00m MissingOptionalLibraryError(\n\u001b[1;32m    224\u001b[0m     libname\u001b[38;5;241m=\u001b[39m\u001b[38;5;28mself\u001b[39m\u001b[38;5;241m.\u001b[39m_name, name\u001b[38;5;241m=\u001b[39mfeature, pip_install\u001b[38;5;241m=\u001b[39m\u001b[38;5;28mself\u001b[39m\u001b[38;5;241m.\u001b[39m_install, msg\u001b[38;5;241m=\u001b[39m\u001b[38;5;28mself\u001b[39m\u001b[38;5;241m.\u001b[39m_msg\n\u001b[1;32m    225\u001b[0m )\n",
      "\u001b[0;31mMissingOptionalLibraryError\u001b[0m: \"The 'pyscf' library is required to use 'PySCFDriver'.  See https://pyscf.org/install.html.\""
     ]
    }
   ],
   "source": [
    "from qiskit_nature.second_q.drivers import PySCFDriver\n",
    "from qiskit_nature.second_q.mappers import ParityMapper\n",
    "from qiskit_nature.second_q.problems import ElectronicStructureProblem\n",
    "\n",
    "from qiskit_algorithms import VQE\n",
    "from qiskit_algorithms.optimizers import SLSQP\n",
    "from qiskit.circuit.library import TwoLocal\n",
    "from qiskit.primitives import Estimator\n",
    "\n",
    "# 1. Define molecule (H2 at bond distance 0.735 Å)\n",
    "driver = PySCFDriver(atom=\"H .0 .0 .0; H .0 .0 0.735\", basis=\"sto3g\")\n",
    "molecule = driver.run()\n",
    "\n",
    "# 2. Setup problem\n",
    "problem = ElectronicStructureProblem(molecule)\n",
    "\n",
    "# 3. Map to qubits\n",
    "mapper = ParityMapper()\n",
    "second_q_op = problem.second_q_ops()\n",
    "hamiltonian = second_q_op[0]\n",
    "qubit_op = mapper.map(hamiltonian)\n",
    "\n",
    "# 4. Setup ansatz (trial wavefunction) and optimizer\n",
    "ansatz = TwoLocal(rotation_blocks=\"ry\", entanglement_blocks=\"cz\", reps=2)\n",
    "optimizer = SLSQP(maxiter=200)\n",
    "\n",
    "# 5. Run VQE\n",
    "vqe = VQE(Estimator(), ansatz, optimizer)\n",
    "result = vqe.compute_minimum_eigenvalue(qubit_op)\n",
    "\n",
    "# 6. Print results\n",
    "print(\"VQE Ground State Energy (H2):\", result.eigenvalue.real, \"Ha\")\n",
    "\n",
    "# Classical reference (Hartree-Fock energy)\n",
    "print(\"Hartree-Fock Energy:\", molecule.hf_energy, \"Ha\")\n",
    "print(\"Nuclear Repulsion Energy:\", molecule.nuclear_repulsion_energy, \"Ha\")\n"
   ]
  },
  {
   "cell_type": "code",
   "execution_count": 12,
   "id": "7d5ae609-bc6b-4415-b9cb-0f8c8d50c06e",
   "metadata": {},
   "outputs": [
    {
     "name": "stdout",
     "output_type": "stream",
     "text": [
      "Requirement already satisfied: pyscf in /opt/conda/lib/python3.11/site-packages (2.10.0)\n",
      "Requirement already satisfied: numpy!=1.16,!=1.17,>=1.13 in /opt/conda/lib/python3.11/site-packages (from pyscf) (1.23.5)\n",
      "Requirement already satisfied: scipy>=1.6.0 in /opt/conda/lib/python3.11/site-packages (from pyscf) (1.15.3)\n",
      "Requirement already satisfied: h5py>=2.7 in /opt/conda/lib/python3.11/site-packages (from pyscf) (3.14.0)\n",
      "Requirement already satisfied: setuptools in /opt/conda/lib/python3.11/site-packages (from pyscf) (80.9.0)\n",
      "\n",
      "\u001b[1m[\u001b[0m\u001b[34;49mnotice\u001b[0m\u001b[1;39;49m]\u001b[0m\u001b[39;49m A new release of pip is available: \u001b[0m\u001b[31;49m25.1.1\u001b[0m\u001b[39;49m -> \u001b[0m\u001b[32;49m25.2\u001b[0m\n",
      "\u001b[1m[\u001b[0m\u001b[34;49mnotice\u001b[0m\u001b[1;39;49m]\u001b[0m\u001b[39;49m To update, run: \u001b[0m\u001b[32;49mpip install --upgrade pip\u001b[0m\n"
     ]
    }
   ],
   "source": [
    "import sys\n",
    "!{sys.executable} -m pip install pyscf\n"
   ]
  },
  {
   "cell_type": "code",
   "execution_count": 13,
   "id": "76d510a4-a341-49d8-ac5a-53d5f6836328",
   "metadata": {},
   "outputs": [
    {
     "ename": "MissingOptionalLibraryError",
     "evalue": "\"The 'pyscf' library is required to use 'PySCFDriver'.  See https://pyscf.org/install.html.\"",
     "output_type": "error",
     "traceback": [
      "\u001b[0;31m---------------------------------------------------------------------------\u001b[0m",
      "\u001b[0;31mMissingOptionalLibraryError\u001b[0m               Traceback (most recent call last)",
      "Cell \u001b[0;32mIn[13], line 4\u001b[0m\n\u001b[1;32m      1\u001b[0m \u001b[38;5;28;01mfrom\u001b[39;00m \u001b[38;5;21;01mqiskit_nature\u001b[39;00m\u001b[38;5;21;01m.\u001b[39;00m\u001b[38;5;21;01msecond_q\u001b[39;00m\u001b[38;5;21;01m.\u001b[39;00m\u001b[38;5;21;01mdrivers\u001b[39;00m \u001b[38;5;28;01mimport\u001b[39;00m PySCFDriver\n\u001b[1;32m      3\u001b[0m \u001b[38;5;66;03m# Try a simple hydrogen molecule\u001b[39;00m\n\u001b[0;32m----> 4\u001b[0m driver \u001b[38;5;241m=\u001b[39m \u001b[43mPySCFDriver\u001b[49m\u001b[43m(\u001b[49m\u001b[43matom\u001b[49m\u001b[38;5;241;43m=\u001b[39;49m\u001b[38;5;124;43m\"\u001b[39;49m\u001b[38;5;124;43mH 0 0 0; H 0 0 0.735\u001b[39;49m\u001b[38;5;124;43m\"\u001b[39;49m\u001b[43m,\u001b[49m\u001b[43m \u001b[49m\u001b[43mbasis\u001b[49m\u001b[38;5;241;43m=\u001b[39;49m\u001b[38;5;124;43m\"\u001b[39;49m\u001b[38;5;124;43msto3g\u001b[39;49m\u001b[38;5;124;43m\"\u001b[39;49m\u001b[43m)\u001b[49m\n\u001b[1;32m      5\u001b[0m molecule \u001b[38;5;241m=\u001b[39m driver\u001b[38;5;241m.\u001b[39mrun()\n\u001b[1;32m      7\u001b[0m \u001b[38;5;28mprint\u001b[39m(\u001b[38;5;124m\"\u001b[39m\u001b[38;5;124mNumber of molecular orbitals:\u001b[39m\u001b[38;5;124m\"\u001b[39m, molecule\u001b[38;5;241m.\u001b[39mnum_molecular_orbitals)\n",
      "File \u001b[0;32m/opt/conda/lib/python3.11/site-packages/qiskit/utils/classtools.py:111\u001b[0m, in \u001b[0;36m_WrappedMethod.__get__.<locals>.out\u001b[0;34m(*args, **kwargs)\u001b[0m\n\u001b[1;32m    108\u001b[0m \u001b[38;5;129m@functools\u001b[39m\u001b[38;5;241m.\u001b[39mwraps(method)\n\u001b[1;32m    109\u001b[0m \u001b[38;5;28;01mdef\u001b[39;00m \u001b[38;5;21mout\u001b[39m(\u001b[38;5;241m*\u001b[39margs, \u001b[38;5;241m*\u001b[39m\u001b[38;5;241m*\u001b[39mkwargs):\n\u001b[1;32m    110\u001b[0m     \u001b[38;5;28;01mfor\u001b[39;00m callback \u001b[38;5;129;01min\u001b[39;00m \u001b[38;5;28mself\u001b[39m\u001b[38;5;241m.\u001b[39m_before:\n\u001b[0;32m--> 111\u001b[0m         \u001b[43mcallback\u001b[49m\u001b[38;5;241;43m.\u001b[39;49m\u001b[38;5;21;43m__get__\u001b[39;49m\u001b[43m(\u001b[49m\u001b[43mobj\u001b[49m\u001b[43m,\u001b[49m\u001b[43m \u001b[49m\u001b[43mobjtype\u001b[49m\u001b[43m)\u001b[49m\u001b[43m(\u001b[49m\u001b[38;5;241;43m*\u001b[39;49m\u001b[43margs\u001b[49m\u001b[43m,\u001b[49m\u001b[43m \u001b[49m\u001b[38;5;241;43m*\u001b[39;49m\u001b[38;5;241;43m*\u001b[39;49m\u001b[43mkwargs\u001b[49m\u001b[43m)\u001b[49m\n\u001b[1;32m    112\u001b[0m     retval \u001b[38;5;241m=\u001b[39m method(\u001b[38;5;241m*\u001b[39margs, \u001b[38;5;241m*\u001b[39m\u001b[38;5;241m*\u001b[39mkwargs)\n\u001b[1;32m    113\u001b[0m     \u001b[38;5;28;01mfor\u001b[39;00m callback \u001b[38;5;129;01min\u001b[39;00m \u001b[38;5;28mself\u001b[39m\u001b[38;5;241m.\u001b[39m_after:\n",
      "File \u001b[0;32m/opt/conda/lib/python3.11/site-packages/qiskit/utils/lazy_tester.py:39\u001b[0m, in \u001b[0;36m_RequireNow.__call__\u001b[0;34m(self, *_args, **_kwargs)\u001b[0m\n\u001b[1;32m     38\u001b[0m \u001b[38;5;28;01mdef\u001b[39;00m \u001b[38;5;21m__call__\u001b[39m(\u001b[38;5;28mself\u001b[39m, \u001b[38;5;241m*\u001b[39m_args, \u001b[38;5;241m*\u001b[39m\u001b[38;5;241m*\u001b[39m_kwargs):\n\u001b[0;32m---> 39\u001b[0m     \u001b[38;5;28;43mself\u001b[39;49m\u001b[38;5;241;43m.\u001b[39;49m\u001b[43m_tester\u001b[49m\u001b[38;5;241;43m.\u001b[39;49m\u001b[43mrequire_now\u001b[49m\u001b[43m(\u001b[49m\u001b[38;5;28;43mself\u001b[39;49m\u001b[38;5;241;43m.\u001b[39;49m\u001b[43m_feature\u001b[49m\u001b[43m)\u001b[49m\n",
      "File \u001b[0;32m/opt/conda/lib/python3.11/site-packages/qiskit/utils/lazy_tester.py:223\u001b[0m, in \u001b[0;36mLazyDependencyManager.require_now\u001b[0;34m(self, feature)\u001b[0m\n\u001b[1;32m    221\u001b[0m \u001b[38;5;28;01mif\u001b[39;00m \u001b[38;5;28mself\u001b[39m:\n\u001b[1;32m    222\u001b[0m     \u001b[38;5;28;01mreturn\u001b[39;00m\n\u001b[0;32m--> 223\u001b[0m \u001b[38;5;28;01mraise\u001b[39;00m MissingOptionalLibraryError(\n\u001b[1;32m    224\u001b[0m     libname\u001b[38;5;241m=\u001b[39m\u001b[38;5;28mself\u001b[39m\u001b[38;5;241m.\u001b[39m_name, name\u001b[38;5;241m=\u001b[39mfeature, pip_install\u001b[38;5;241m=\u001b[39m\u001b[38;5;28mself\u001b[39m\u001b[38;5;241m.\u001b[39m_install, msg\u001b[38;5;241m=\u001b[39m\u001b[38;5;28mself\u001b[39m\u001b[38;5;241m.\u001b[39m_msg\n\u001b[1;32m    225\u001b[0m )\n",
      "\u001b[0;31mMissingOptionalLibraryError\u001b[0m: \"The 'pyscf' library is required to use 'PySCFDriver'.  See https://pyscf.org/install.html.\""
     ]
    }
   ],
   "source": [
    "from qiskit_nature.second_q.drivers import PySCFDriver\n",
    "\n",
    "# Try a simple hydrogen molecule\n",
    "driver = PySCFDriver(atom=\"H 0 0 0; H 0 0 0.735\", basis=\"sto3g\")\n",
    "molecule = driver.run()\n",
    "\n",
    "print(\"Number of molecular orbitals:\", molecule.num_molecular_orbitals)\n",
    "print(\"Number of alpha electrons:\", molecule.num_alpha)\n",
    "print(\"Number of beta electrons:\", molecule.num_beta)\n"
   ]
  },
  {
   "cell_type": "code",
   "execution_count": 14,
   "id": "a1d8b8fd-0f6f-45b4-a8f9-5d9b97776f06",
   "metadata": {},
   "outputs": [
    {
     "name": "stdout",
     "output_type": "stream",
     "text": [
      "Molecule created manually (no PySCF needed).\n",
      "Number of orbitals: 2\n"
     ]
    }
   ],
   "source": [
    "from qiskit_nature.second_q.formats.molecule_info import MoleculeInfo\n",
    "from qiskit_nature.second_q.problems import ElectronicStructureProblem\n",
    "from qiskit_nature.second_q.hamiltonians import ElectronicEnergy\n",
    "from qiskit_nature.second_q.operators import ElectronicIntegrals\n",
    "from qiskit_nature.units import DistanceUnit\n",
    "import numpy as np\n",
    "\n",
    "# Define H2 molecule manually\n",
    "molecule = MoleculeInfo(\n",
    "    symbols=[\"H\", \"H\"],\n",
    "    coords=[(0.0, 0.0, 0.0), (0.0, 0.0, 0.735)],  # bond length in Angstrom\n",
    "    charge=0,\n",
    "    multiplicity=1,\n",
    "    units=DistanceUnit.ANGSTROM\n",
    ")\n",
    "\n",
    "# Create fake integrals (normally generated by a driver like PySCF)\n",
    "# For H2 in STO-3G, integrals are known and small\n",
    "one_body = np.array([[-1.252477, -0.475934],\n",
    "                     [-0.475934, -1.252477]])\n",
    "\n",
    "two_body = np.zeros((2, 2, 2, 2))\n",
    "two_body[0,0,0,0] = 0.674493\n",
    "two_body[1,1,1,1] = 0.674493\n",
    "two_body[0,1,1,0] = 0.663472\n",
    "two_body[1,0,0,1] = 0.663472\n",
    "\n",
    "# Build Hamiltonian\n",
    "elec_integrals = ElectronicIntegrals.from_raw_integrals(one_body, two_body)\n",
    "hamiltonian = ElectronicEnergy(elec_integrals)\n",
    "\n",
    "# Problem object\n",
    "problem = ElectronicStructureProblem(hamiltonian)\n",
    "\n",
    "print(\"Molecule created manually (no PySCF needed).\")\n",
    "print(\"Number of orbitals:\", len(one_body))\n"
   ]
  },
  {
   "cell_type": "code",
   "execution_count": 18,
   "id": "54df6da0-8625-426e-b3f3-7c9a39515c7f",
   "metadata": {},
   "outputs": [
    {
     "name": "stderr",
     "output_type": "stream",
     "text": [
      "/opt/conda/lib/python3.11/site-packages/qiskit_nature/deprecation.py:297: PauliSumOpDeprecationWarning: PauliSumOp is deprecated as of version 0.6.0 and support for them will be removed no sooner than 3 months after the release. Instead, use SparsePauliOp. You can switch to SparsePauliOp immediately, by setting `qiskit_nature.settings.use_pauli_sum_op` to `False`.\n",
      "  return func(*args, **kwargs)\n"
     ]
    },
    {
     "name": "stdout",
     "output_type": "stream",
     "text": [
      "=== H₂ VQE Result ===\n",
      "Ground state energy: -2.7878348462914824 Hartree\n"
     ]
    }
   ],
   "source": [
    "from qiskit.primitives import Estimator\n",
    "from qiskit_nature.second_q.mappers import ParityMapper\n",
    "from qiskit.algorithms.minimum_eigensolvers import VQE\n",
    "from qiskit.algorithms.optimizers import SLSQP\n",
    "from qiskit.circuit.library import TwoLocal\n",
    "from qiskit_nature.second_q.algorithms import GroundStateEigensolver\n",
    "\n",
    "# 1. Mapper to convert fermionic problem to qubits\n",
    "mapper = ParityMapper()\n",
    "\n",
    "# 2. Define ansatz (variational circuit)\n",
    "ansatz = TwoLocal(rotation_blocks=\"ry\", entanglement_blocks=\"cz\", reps=2)\n",
    "\n",
    "# 3. Optimizer\n",
    "optimizer = SLSQP(maxiter=200)\n",
    "\n",
    "# 4. Estimator primitive\n",
    "estimator = Estimator()\n",
    "\n",
    "# 5. VQE solver (new API requires estimator as 1st argument)\n",
    "vqe_solver = VQE(estimator, ansatz, optimizer)\n",
    "\n",
    "# 6. Ground state eigensolver\n",
    "calc = GroundStateEigensolver(mapper, vqe_solver)\n",
    "\n",
    "# 7. Run calculation\n",
    "result = calc.solve(problem)\n",
    "\n",
    "print(\"=== H₂ VQE Result ===\")\n",
    "print(\"Ground state energy:\", result.total_energies[0].real, \"Hartree\")\n"
   ]
  },
  {
   "cell_type": "code",
   "execution_count": null,
   "id": "5aa2e8c3-6359-4656-afab-df5d263214dd",
   "metadata": {},
   "outputs": [],
   "source": []
  }
 ],
 "metadata": {
  "kernelspec": {
   "display_name": "Python (qiskit043)",
   "language": "python",
   "name": "qiskit043"
  },
  "language_info": {
   "codemirror_mode": {
    "name": "ipython",
    "version": 3
   },
   "file_extension": ".py",
   "mimetype": "text/x-python",
   "name": "python",
   "nbconvert_exporter": "python",
   "pygments_lexer": "ipython3",
   "version": "3.11.9"
  }
 },
 "nbformat": 4,
 "nbformat_minor": 5
}
